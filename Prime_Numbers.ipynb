{
  "nbformat": 4,
  "nbformat_minor": 0,
  "metadata": {
    "colab": {
      "provenance": [],
      "authorship_tag": "ABX9TyOFO7RpliWiPWgIK7UaWcIp",
      "include_colab_link": true
    },
    "kernelspec": {
      "name": "python3",
      "display_name": "Python 3"
    },
    "language_info": {
      "name": "python"
    }
  },
  "cells": [
    {
      "cell_type": "markdown",
      "metadata": {
        "id": "view-in-github",
        "colab_type": "text"
      },
      "source": [
        "<a href=\"https://colab.research.google.com/github/dholmescodes/Pythonlabs/blob/main/Prime_Numbers.ipynb\" target=\"_parent\"><img src=\"https://colab.research.google.com/assets/colab-badge.svg\" alt=\"Open In Colab\"/></a>"
      ]
    },
    {
      "cell_type": "markdown",
      "source": [
        "#Prime Numbers"
      ],
      "metadata": {
        "id": "4yuNmDTo2FKH"
      }
    },
    {
      "cell_type": "code",
      "source": [
        "num = int(input(\"Enter a number: \"))\n",
        "for i in range(1, num + 1):\n",
        "  prime = True\n",
        "  for j in range(2, i):\n",
        "    if i % j == 0:\n",
        "      prime = False\n",
        "      break\n",
        "  if prime:\n",
        "    print(i)"
      ],
      "metadata": {
        "colab": {
          "base_uri": "https://localhost:8080/"
        },
        "id": "EFA4rbzB0_YA",
        "outputId": "fce1cccc-e6e8-441d-d4d5-7c6e65d883fd"
      },
      "execution_count": 4,
      "outputs": [
        {
          "output_type": "stream",
          "name": "stdout",
          "text": [
            "Enter a number: 8\n",
            "1\n",
            "2\n",
            "3\n",
            "5\n",
            "7\n"
          ]
        }
      ]
    },
    {
      "cell_type": "markdown",
      "source": [
        "#Binary Converter\n",
        "\n",
        "\n",
        "\n",
        "```\n",
        "# This is formatted as code\n",
        "```\n",
        "\n"
      ],
      "metadata": {
        "id": "bFunrIoB2LeS"
      }
    },
    {
      "cell_type": "code",
      "source": [
        "n = int(input(\"Enter a number: \"))\n",
        "binary = \"\"\n",
        "while n > 0:\n",
        "  binary = str(n % 2) + binary\n",
        "  n = n // 2\n",
        "print(binary)"
      ],
      "metadata": {
        "colab": {
          "base_uri": "https://localhost:8080/"
        },
        "id": "Gxe62-qM2Ulm",
        "outputId": "41befe58-973d-41d2-b477-553179a25590"
      },
      "execution_count": 5,
      "outputs": [
        {
          "output_type": "stream",
          "name": "stdout",
          "text": [
            "Enter a number: 5\n",
            "101\n"
          ]
        }
      ]
    },
    {
      "cell_type": "markdown",
      "source": [
        "A simple Grade book"
      ],
      "metadata": {
        "id": "GHhlqSJB2jac"
      }
    },
    {
      "cell_type": "code",
      "source": [
        "students = int(input(\"Enter the number of students: \"))\n",
        "total = 0\n",
        "min = 100\n",
        "max = 0\n",
        "for i in range(students):\n",
        "  grade = int(input(\"Enter the grade of the student: \"))\n",
        "  total += grade\n",
        "  if grade > max:\n",
        "    max = grade\n",
        "  if grade < min:\n",
        "    min = grade\n",
        "print(\"The average grade is: \", total / students, 'Min', min, 'Max', max)"
      ],
      "metadata": {
        "colab": {
          "base_uri": "https://localhost:8080/"
        },
        "id": "CHVnFqJ-2uCj",
        "outputId": "5049a0d4-c6f9-407c-af46-c857e0c41e21"
      },
      "execution_count": 10,
      "outputs": [
        {
          "output_type": "stream",
          "name": "stdout",
          "text": [
            "Enter the number of students: 5\n",
            "Enter the grade of the student: 90\n",
            "Enter the grade of the student: 59\n",
            "Enter the grade of the student: 90\n",
            "Enter the grade of the student: 95\n",
            "Enter the grade of the student: 85\n",
            "The average grade is:  83.8 Min 59 Max 95\n"
          ]
        }
      ]
    },
    {
      "cell_type": "markdown",
      "source": [
        "Fahrenheit = float(input('Enter the temperature in Farenheit: (enter stop to quit)'))\n",
        "while f!= 'stop':\n",
        "  c = (Farenheit - 32) * 5/9\n",
        "  print('Celcius is', c)\n",
        "  Farenheit = float(input('Enter the temperature in Farenheit: (enter stop to quit)'))\n",
        "  \n"
      ],
      "metadata": {
        "id": "Hs2WjWzZ5S2a"
      }
    },
    {
      "cell_type": "code",
      "source": [
        "Farenheit = (input('Enter the temperature in Farenheit: (enter stop to quit)'))\n",
        "while Farenheit != 'stop':\n",
        "  f = float(Farenheit)\n",
        "  c = (f - 32) * 5/9\n",
        "  print('Celcius is', c)\n",
        "  Farenheit = (input('Enter the temperature in Farenheit: (enter stop to quit)'))"
      ],
      "metadata": {
        "colab": {
          "base_uri": "https://localhost:8080/"
        },
        "id": "aZ58-M6F6sp9",
        "outputId": "2a9e3930-87d0-4c22-e2ef-1844ea1df80d"
      },
      "execution_count": 13,
      "outputs": [
        {
          "name": "stdout",
          "output_type": "stream",
          "text": [
            "Enter the temperature in Farenheit: (enter stop to quit)100\n",
            "Celcius is 37.77777777777778\n",
            "Enter the temperature in Farenheit: (enter stop to quit)60\n",
            "Celcius is 15.555555555555555\n",
            "Enter the temperature in Farenheit: (enter stop to quit)5\n",
            "Celcius is -15.0\n",
            "Enter the temperature in Farenheit: (enter stop to quit)2\n",
            "Celcius is -16.666666666666668\n",
            "Enter the temperature in Farenheit: (enter stop to quit)1\n",
            "Celcius is -17.22222222222222\n",
            "Enter the temperature in Farenheit: (enter stop to quit)stop\n"
          ]
        }
      ]
    },
    {
      "cell_type": "markdown",
      "source": [
        "#How many E and e in a sentance"
      ],
      "metadata": {
        "id": "plp52MZF7Ql6"
      }
    },
    {
      "cell_type": "code",
      "source": [
        "sentence = input(\"Enter a sentence: \")\n",
        "e = 0\n",
        "E = 0\n",
        "for i in sentence:\n",
        "  if i == 'e':\n",
        "    e += 1\n",
        "  elif i == 'E':\n",
        "    E += 1\n",
        "  else:\n",
        "    continue\n",
        "print(\"There are\", e, \"e's and\", E, \"E's in the sentence\")"
      ],
      "metadata": {
        "colab": {
          "base_uri": "https://localhost:8080/"
        },
        "id": "lSs1K6vM7TzD",
        "outputId": "6213d77b-f4e0-45c0-c450-0daaa713879a"
      },
      "execution_count": 15,
      "outputs": [
        {
          "output_type": "stream",
          "name": "stdout",
          "text": [
            "Enter a sentence: How many times \n",
            "There are 1 e's and 0 E's in the sentence\n"
          ]
        }
      ]
    }
  ]
}
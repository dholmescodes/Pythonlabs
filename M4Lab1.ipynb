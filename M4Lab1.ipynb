{
  "nbformat": 4,
  "nbformat_minor": 0,
  "metadata": {
    "colab": {
      "provenance": [],
      "authorship_tag": "ABX9TyMI7snezKwSNOwBlZn2eYbq",
      "include_colab_link": true
    },
    "kernelspec": {
      "name": "python3",
      "display_name": "Python 3"
    },
    "language_info": {
      "name": "python"
    }
  },
  "cells": [
    {
      "cell_type": "markdown",
      "metadata": {
        "id": "view-in-github",
        "colab_type": "text"
      },
      "source": [
        "<a href=\"https://colab.research.google.com/github/dholmescodes/Pythonlabs/blob/main/M4Lab1.ipynb\" target=\"_parent\"><img src=\"https://colab.research.google.com/assets/colab-badge.svg\" alt=\"Open In Colab\"/></a>"
      ]
    },
    {
      "cell_type": "markdown",
      "source": [
        "Print all integers from -5 to 5"
      ],
      "metadata": {
        "id": "ylmx_OVy6THg"
      }
    },
    {
      "cell_type": "code",
      "execution_count": 2,
      "metadata": {
        "colab": {
          "base_uri": "https://localhost:8080/"
        },
        "id": "EZ8bbbAW6P3q",
        "outputId": "4ac343e9-1d33-4b2f-8534-2586b596386b"
      },
      "outputs": [
        {
          "output_type": "stream",
          "name": "stdout",
          "text": [
            "-5\n",
            "-4\n",
            "-3\n",
            "-2\n",
            "-1\n",
            "0\n",
            "1\n",
            "2\n",
            "3\n",
            "4\n",
            "5\n"
          ]
        }
      ],
      "source": [
        "x = -5\n",
        "\n",
        "while x <= 5:\n",
        "  print(x)\n",
        "  x += 1"
      ]
    },
    {
      "cell_type": "markdown",
      "source": [
        "#Print all integers of an inteval given by the user"
      ],
      "metadata": {
        "id": "O3goTD236s2H"
      }
    },
    {
      "cell_type": "code",
      "source": [
        "integer1 = int(input(\"Enter the first integer: \"))\n",
        "integer2 = int(input(\"Enter the second integer: \"))\n",
        "\n",
        "while integer1 <= integer2:\n",
        "  print(integer1)\n",
        "  integer1 += 1"
      ],
      "metadata": {
        "colab": {
          "base_uri": "https://localhost:8080/"
        },
        "id": "A46onDBr6z4a",
        "outputId": "f824eb48-3eec-4904-cab7-ae6062367694"
      },
      "execution_count": 4,
      "outputs": [
        {
          "name": "stdout",
          "output_type": "stream",
          "text": [
            "Enter the first integer: 7\n",
            "Enter the second integer: 6\n"
          ]
        }
      ]
    },
    {
      "cell_type": "markdown",
      "source": [
        "*italicized text*"
      ],
      "metadata": {
        "id": "b4vy1quC8RAm"
      }
    },
    {
      "cell_type": "code",
      "source": [
        "number = int(input(\"Enter a number between 0 and 10: \"))\n",
        "\n",
        "while number <= 1000000:\n",
        "  print(number)\n",
        "  number *= 2"
      ],
      "metadata": {
        "colab": {
          "base_uri": "https://localhost:8080/"
        },
        "id": "1-6mzVhg79Ly",
        "outputId": "07e9362c-bc3b-4aab-b3ec-290c664ef5ba"
      },
      "execution_count": 12,
      "outputs": [
        {
          "output_type": "stream",
          "name": "stdout",
          "text": [
            "Enter a number between 0 and 10: 5\n",
            "5\n",
            "10\n",
            "20\n",
            "40\n",
            "80\n",
            "160\n",
            "320\n",
            "640\n",
            "1280\n",
            "2560\n",
            "5120\n",
            "10240\n",
            "20480\n",
            "40960\n",
            "81920\n",
            "163840\n",
            "327680\n",
            "655360\n"
          ]
        }
      ]
    },
    {
      "cell_type": "markdown",
      "source": [
        "#Keeep asking for candy unti 'Stop'"
      ],
      "metadata": {
        "id": "BlB2QpT78qx2"
      }
    },
    {
      "cell_type": "code",
      "source": [
        "candy = input(\"Enter a candy: to stop enter 'Done'\")\n",
        "\n",
        "while candy != \"Done\":\n",
        "  print(candy)\n",
        "  candy = input(\"Enter a candy, to stop enter Done: \")\n",
        "print('Thanks! I have enough.')"
      ],
      "metadata": {
        "colab": {
          "base_uri": "https://localhost:8080/"
        },
        "id": "v2xUKMJy9k2c",
        "outputId": "a41e07d8-8464-431e-d2c1-3f42a49a0dc5"
      },
      "execution_count": 13,
      "outputs": [
        {
          "output_type": "stream",
          "name": "stdout",
          "text": [
            "Enter a candy: to stop enter 'Done'Skittles \n",
            "Skittles \n",
            "Enter a candy, to stop enter Done: Snickers\n",
            "Snickers\n",
            "Enter a candy, to stop enter Done: M&Ms\n",
            "M&Ms\n",
            "Enter a candy, to stop enter Done: Done\n",
            "Thanks! I have enough.\n"
          ]
        }
      ]
    },
    {
      "cell_type": "markdown",
      "source": [
        "#Password Setup"
      ],
      "metadata": {
        "id": "yZw0lBKX-GNF"
      }
    },
    {
      "cell_type": "code",
      "source": [
        "password = input(\"Enter a password: \")\n",
        "password2 = input(\"Enter the password again: \")\n",
        "\n",
        "while password2 != password:\n",
        "  password = input(\"Enter a password: \")\n",
        "  password2 = input(\"Enter the password again: \")\n",
        "print(\"You are all set\")"
      ],
      "metadata": {
        "colab": {
          "base_uri": "https://localhost:8080/"
        },
        "id": "LYe_Ret5-IrX",
        "outputId": "993bf41a-7569-472a-9e05-0bf53a270a27"
      },
      "execution_count": 14,
      "outputs": [
        {
          "output_type": "stream",
          "name": "stdout",
          "text": [
            "Enter a password: tim \n",
            "Enter the password again: go\n",
            "Enter a password: tim\n",
            "Enter the password again: go\n",
            "Enter a password: tim\n",
            "Enter the password again: tim\n",
            "You are all set\n"
          ]
        }
      ]
    },
    {
      "cell_type": "code",
      "source": [],
      "metadata": {
        "id": "pCbxCsap-a7P"
      },
      "execution_count": null,
      "outputs": []
    }
  ]
}
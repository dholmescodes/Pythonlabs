{
  "nbformat": 4,
  "nbformat_minor": 0,
  "metadata": {
    "colab": {
      "provenance": [],
      "authorship_tag": "ABX9TyOJ2QDOZL2ktbAYnCD5nAzz",
      "include_colab_link": true
    },
    "kernelspec": {
      "name": "python3",
      "display_name": "Python 3"
    },
    "language_info": {
      "name": "python"
    }
  },
  "cells": [
    {
      "cell_type": "markdown",
      "metadata": {
        "id": "view-in-github",
        "colab_type": "text"
      },
      "source": [
        "<a href=\"https://colab.research.google.com/github/dholmescodes/Pythonlabs/blob/main/Module_3_Lab_3.ipynb\" target=\"_parent\"><img src=\"https://colab.research.google.com/assets/colab-badge.svg\" alt=\"Open In Colab\"/></a>"
      ]
    },
    {
      "cell_type": "markdown",
      "source": [
        "#Check if a number is positive, negative or 0.\n",
        "\n"
      ],
      "metadata": {
        "id": "QDHl3ZIrn6FZ"
      }
    },
    {
      "cell_type": "code",
      "source": [
        "num = int(input(\"Enter a number: \"))\n",
        "if num > 0:\n",
        "  print(\"it is positive\")\n",
        "elif num < 0:\n",
        "  print(\"it is negative\")\n",
        "else:\n",
        "  print(\"it is zero\")"
      ],
      "metadata": {
        "colab": {
          "base_uri": "https://localhost:8080/"
        },
        "id": "ils2AMgQolLd",
        "outputId": "1e05b0c4-0d5b-4fe2-d2c8-9945ef33e96d"
      },
      "execution_count": 7,
      "outputs": [
        {
          "output_type": "stream",
          "name": "stdout",
          "text": [
            "Enter a number: 0\n",
            "it is zero\n"
          ]
        }
      ]
    },
    {
      "cell_type": "markdown",
      "source": [
        "# Collect parking fee"
      ],
      "metadata": {
        "id": "USqLtxHWpfhO"
      }
    },
    {
      "cell_type": "code",
      "source": [
        "hours = float(input(\"Enter the hours of parking:\"))\n",
        "if hours <= .5:\n",
        "  print(\"The cost is 5 dollars\")\n",
        "elif hours <= 2:\n",
        "  print(\"The cost is 15 dollars\")\n",
        "else:\n",
        "  print(\"The cost is:\", (hours - 2) * 5 + 15)"
      ],
      "metadata": {
        "colab": {
          "base_uri": "https://localhost:8080/"
        },
        "id": "KMP9cfF9o4YH",
        "outputId": "8aff3505-81f1-423e-805c-4301df4782d7"
      },
      "execution_count": 11,
      "outputs": [
        {
          "output_type": "stream",
          "name": "stdout",
          "text": [
            "Enter the hours of parking:3\n",
            "The cost is: 20.0\n"
          ]
        }
      ]
    },
    {
      "cell_type": "markdown",
      "source": [
        "What stage are you in?"
      ],
      "metadata": {
        "id": "6YBFFctcqzBN"
      }
    },
    {
      "cell_type": "code",
      "source": [
        "age = int(input(\"Enter your age:\"))\n",
        "if age <= 1:\n",
        "  print(\"You are an infant\")\n",
        "elif age <= 13:\n",
        "  print(\"You are a child\")\n",
        "elif age <= 20:\n",
        "  print(\"You are a teenager\")\n",
        "elif age <= 65:\n",
        "  print(\"You are an adult\")\n",
        "else:\n",
        "  print(\"You are a senior citizen\")"
      ],
      "metadata": {
        "colab": {
          "base_uri": "https://localhost:8080/"
        },
        "id": "WWQM-ziWq1V-",
        "outputId": "c5a22bb9-8f59-4c7f-be1b-b3b1c3207da3"
      },
      "execution_count": 12,
      "outputs": [
        {
          "output_type": "stream",
          "name": "stdout",
          "text": [
            "Enter your age:77\n",
            "You are a senior citizen\n"
          ]
        }
      ]
    }
  ]
}
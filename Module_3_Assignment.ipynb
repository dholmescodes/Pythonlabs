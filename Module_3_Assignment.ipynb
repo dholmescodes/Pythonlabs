{
  "nbformat": 4,
  "nbformat_minor": 0,
  "metadata": {
    "colab": {
      "provenance": [],
      "authorship_tag": "ABX9TyMQnOt4j1VJaNfQ6qqY/dBU",
      "include_colab_link": true
    },
    "kernelspec": {
      "name": "python3",
      "display_name": "Python 3"
    },
    "language_info": {
      "name": "python"
    }
  },
  "cells": [
    {
      "cell_type": "markdown",
      "metadata": {
        "id": "view-in-github",
        "colab_type": "text"
      },
      "source": [
        "<a href=\"https://colab.research.google.com/github/dholmescodes/Pythonlabs/blob/main/Module_3_Assignment.ipynb\" target=\"_parent\"><img src=\"https://colab.research.google.com/assets/colab-badge.svg\" alt=\"Open In Colab\"/></a>"
      ]
    },
    {
      "cell_type": "markdown",
      "source": [
        "#Program that tells the day of the week"
      ],
      "metadata": {
        "id": "1QDK8sDGtuCb"
      }
    },
    {
      "cell_type": "code",
      "source": [
        "num = int(input(\"Enter a number: \"))\n",
        "if num == 1:\n",
        "  print(\"Monday \")\n",
        "elif num == 2:\n",
        "  print(\"Tuesday \")\n",
        "elif num == 3:\n",
        "  print(\"Wednesday \")\n",
        "elif num == 4:\n",
        "  print(\"Thursday \")\n",
        "elif num == 5:\n",
        "  print(\"Friday \")\n",
        "elif num == 6:\n",
        "  print(\"Saturday \")\n",
        "elif num == 7:\n",
        "  print(\"Sunday \")\n",
        "else:\n",
        "  print(\"ERROR\")\n"
      ],
      "metadata": {
        "colab": {
          "base_uri": "https://localhost:8080/"
        },
        "id": "uheY7PvwuFYz",
        "outputId": "6f7228b5-04a8-44e3-8b54-27cace6f6eaf"
      },
      "execution_count": 1,
      "outputs": [
        {
          "output_type": "stream",
          "name": "stdout",
          "text": [
            "Enter a number: 6\n",
            "Saturday \n"
          ]
        }
      ]
    },
    {
      "cell_type": "markdown",
      "source": [
        "#Tax Calculator"
      ],
      "metadata": {
        "id": "nXHvGS0rvc5w"
      }
    },
    {
      "cell_type": "code",
      "source": [
        "income = float(input(\"Enter the gross income of year 2022: \"))\n",
        "if income < 100000:\n",
        "  one = income * 0.01\n",
        "  print(\"Your tax is equal to:\", one)\n",
        "elif income > 100000 and income <= 500000:\n",
        "  five = income * 0.05\n",
        "  print (\"Your tax is equal to:\", five)\n",
        "else:\n",
        "  above = five + ((income - 500000) * .02)\n",
        "  print(\"Your tax is equal to:\", above)\n",
        ""
      ],
      "metadata": {
        "colab": {
          "base_uri": "https://localhost:8080/"
        },
        "id": "Y3C6nZwyviia",
        "outputId": "ff6f1543-dcaa-4069-c730-13e402d9a497"
      },
      "execution_count": 14,
      "outputs": [
        {
          "output_type": "stream",
          "name": "stdout",
          "text": [
            "Enter the gross income of year 2022: 600000\n",
            "Your tax is equal to: 27000.0\n"
          ]
        }
      ]
    },
    {
      "cell_type": "markdown",
      "source": [
        "#Simple Calculator"
      ],
      "metadata": {
        "id": "7yW3PiXiym0B"
      }
    },
    {
      "cell_type": "code",
      "source": [
        "x = (input(\"Enter the first number:\"))\n",
        "y = (input(\"Enter the second number: \"))\n",
        "operator = input(\"Enter the operator: \")\n",
        "if operator == \"+\":\n",
        "  print(float(x) + float(y))\n",
        "elif operator == \"-\":\n",
        "  print(float(x) - float(y))\n",
        "elif operator == \"*\":\n",
        "  print(float(x) * float(y))\n",
        "elif  operator == \"/\":\n",
        "  print(float(x) / float(y))\n",
        "else:\n",
        "  print(\"ERROR\")"
      ],
      "metadata": {
        "colab": {
          "base_uri": "https://localhost:8080/"
        },
        "id": "RGQsl36Qy0bk",
        "outputId": "92edc25d-796f-4348-d90a-e9c42335b6d6"
      },
      "execution_count": 15,
      "outputs": [
        {
          "output_type": "stream",
          "name": "stdout",
          "text": [
            "Enter the first number:7\n",
            "Enter the second number: 8\n",
            "Enter the operator: +\n",
            "15.0\n"
          ]
        }
      ]
    },
    {
      "cell_type": "markdown",
      "source": [
        "#Taxi Fare Calculator"
      ],
      "metadata": {
        "id": "BGU6iUb5zmNp"
      }
    },
    {
      "cell_type": "code",
      "source": [
        "miles = float(input(\"Enter the number of miles: \"))\n",
        "if miles < 10:\n",
        "  print(\"The fare is $5 \")\n",
        "elif miles >= 10 and miles < 20:\n",
        "  above10 = (miles - 10) + 5\n",
        "  print(\"The fare is $\", above10)\n",
        "else:\n",
        "  above20 = (miles - 10)\n",
        "  fair20 = (above20 * 1.5) + 5\n",
        "  print(\"The fare is $\", fair20)"
      ],
      "metadata": {
        "colab": {
          "base_uri": "https://localhost:8080/"
        },
        "id": "SIXYfZAnzpdE",
        "outputId": "89cbca26-5a6d-4fc9-da73-e363cd83e36c"
      },
      "execution_count": 21,
      "outputs": [
        {
          "output_type": "stream",
          "name": "stdout",
          "text": [
            "Enter the number of miles: 25\n",
            "The fare is $ 27.5\n"
          ]
        }
      ]
    },
    {
      "cell_type": "markdown",
      "source": [
        "#Flash Shipping charges"
      ],
      "metadata": {
        "id": "zcbjce0K12fE"
      }
    },
    {
      "cell_type": "code",
      "source": [
        "weight = float(input(\"Enter the weight of the package: \"))\n",
        "destin = input(\"Enter the destination: \")\n",
        "if weight <= 2 and destin == \"domestic\":\n",
        "  dlbrate = weight * 1.50\n",
        "  print(\"The shipping charge is $\", dlbrate, \"domestic\")\n",
        "elif  weight <= 2 and destin == \"international\":\n",
        "  ilbrate = weight * 5.00\n",
        "  print(\"The shipping charge is $\", ilbrate, \"international\")\n",
        "elif weight > 2 and weight <= 6 and destin == \"domestic\":\n",
        "  dlbrate2 = weight * 2.5\n",
        "  print(\"The shipping charge is $\", dlbrate2, \"domestic\")\n",
        "elif weight > 2 and weight <= 6 and destin == \"international\":\n",
        "  ilbrate2 = weight * 7.00\n",
        "  print(\"The shipping charge is $\", ilbrate2, \"international\")\n",
        "elif weight > 6 and weight <= 20 and destin == \"domestic\":\n",
        "  dlbrate3 = weight * 3.50\n",
        "  print(\"The shipping charge is $\", dlbrate3, \"domestic\")\n",
        "elif weight > 6 and weight <= 20 and destin == \"international\":\n",
        "  ilbrate3 = weight * 10.00\n",
        "  print(\"The shipping charge is $\", ilbrate3, \"international\")\n",
        "elif weight > 20 and destin == \"domestic\":\n",
        "  dlbrate4 = weight * 5.00\n",
        "  print(\"The shipping charge is $\", dlbrate4, \"domestic\")\n",
        "else:\n",
        "  ilbrate4 = weight * 15.00\n",
        "  print(\"The shipping charge is $\", ilbrate4, \"international\")"
      ],
      "metadata": {
        "colab": {
          "base_uri": "https://localhost:8080/"
        },
        "id": "AXSwPzmL1uoL",
        "outputId": "dfb4da9e-b669-4991-ee54-d26778e9bb6a"
      },
      "execution_count": 22,
      "outputs": [
        {
          "output_type": "stream",
          "name": "stdout",
          "text": [
            "Enter the weight of the package: 20\n",
            "Enter the destination: international\n",
            "The shipping charge is $ 200.0 international\n"
          ]
        }
      ]
    }
  ]
}
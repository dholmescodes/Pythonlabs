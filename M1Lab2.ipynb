{
  "nbformat": 4,
  "nbformat_minor": 0,
  "metadata": {
    "colab": {
      "provenance": [],
      "toc_visible": true,
      "include_colab_link": true
    },
    "kernelspec": {
      "name": "python3",
      "display_name": "Python 3"
    },
    "language_info": {
      "name": "python"
    }
  },
  "cells": [
    {
      "cell_type": "markdown",
      "metadata": {
        "id": "view-in-github",
        "colab_type": "text"
      },
      "source": [
        "<a href=\"https://colab.research.google.com/github/dholmescodes/Pythonlabs/blob/main/M1Lab2.ipynb\" target=\"_parent\"><img src=\"https://colab.research.google.com/assets/colab-badge.svg\" alt=\"Open In Colab\"/></a>"
      ]
    },
    {
      "cell_type": "markdown",
      "metadata": {
        "id": "cnAUJprJdh9_"
      },
      "source": [
        "# Welcome to our Lab Practice!"
      ]
    },
    {
      "cell_type": "markdown",
      "metadata": {
        "id": "vVYcayGedmms"
      },
      "source": [
        "This lab is all about defining simple functions. Are you ready? Let's go!"
      ]
    },
    {
      "cell_type": "markdown",
      "metadata": {
        "id": "JP8eGBVyeSQx"
      },
      "source": [
        "You will find some small tasks in sections below."
      ]
    },
    {
      "cell_type": "markdown",
      "metadata": {
        "id": "D8pWdoN7d6Dy"
      },
      "source": [
        "## Define simple functions (without return value and parameters)"
      ]
    },
    {
      "cell_type": "markdown",
      "metadata": {
        "id": "rXgbUIBRgQoG"
      },
      "source": [
        "###Task: define a function that print \"hello world\""
      ]
    },
    {
      "cell_type": "code",
      "metadata": {
        "id": "oIKwmW2mfe3d"
      },
      "source": [
        "# your code will be here\n",
        "def hello_world():\n",
        "  print(\"hello world\")\n"
      ],
      "execution_count": null,
      "outputs": []
    },
    {
      "cell_type": "markdown",
      "source": [
        "###Task: define a function that print \"hello world\" 3 times"
      ],
      "metadata": {
        "id": "h-mrQgK7RKqm"
      }
    },
    {
      "cell_type": "code",
      "source": [
        "# your code will be here\n",
        "def hello_world():\n",
        "  for i in range(3):\n",
        "    print(\"hello world\")"
      ],
      "metadata": {
        "id": "47f7Q_AIRMUW"
      },
      "execution_count": null,
      "outputs": []
    },
    {
      "cell_type": "markdown",
      "source": [
        "###Task: define a function that print integers 1 to 10 (hint: you can use a for loop)"
      ],
      "metadata": {
        "id": "1y6noqXNRMpG"
      }
    },
    {
      "cell_type": "code",
      "source": [
        "# your code will be here\n",
        "def print_integers():\n",
        "  i = 1\n",
        "  while i <= 10:\n",
        "    print(i)\n",
        "    i += 1\n",
        "print_integers()"
      ],
      "metadata": {
        "id": "FR7idsVORX5_",
        "colab": {
          "base_uri": "https://localhost:8080/"
        },
        "outputId": "bce1e4eb-b7c7-43c1-8715-c72f1e27f4a7"
      },
      "execution_count": 3,
      "outputs": [
        {
          "output_type": "stream",
          "name": "stdout",
          "text": [
            "1\n",
            "2\n",
            "3\n",
            "4\n",
            "5\n",
            "6\n",
            "7\n",
            "8\n",
            "9\n",
            "10\n"
          ]
        }
      ]
    },
    {
      "cell_type": "markdown",
      "source": [
        "###Task: define a function that print primary integers in 100 (hint: you can use loops)"
      ],
      "metadata": {
        "id": "OoTXs3WERYju"
      }
    },
    {
      "cell_type": "code",
      "source": [
        "# your code will be here\n",
        "def print_primary_integers():\n",
        "  for i in range(2, 101):\n",
        "    for j in range(2, i):\n",
        "      if i % j == 0:\n",
        "        break\n",
        "    else:\n",
        "      print(i)\n",
        "print_primary_integers()"
      ],
      "metadata": {
        "id": "2pS4qJ54RhKf",
        "colab": {
          "base_uri": "https://localhost:8080/"
        },
        "outputId": "4aeeef48-5df5-4e28-ebe4-e239a9440987"
      },
      "execution_count": 5,
      "outputs": [
        {
          "output_type": "stream",
          "name": "stdout",
          "text": [
            "2\n",
            "3\n",
            "5\n",
            "7\n",
            "11\n",
            "13\n",
            "17\n",
            "19\n",
            "23\n",
            "29\n",
            "31\n",
            "37\n",
            "41\n",
            "43\n",
            "47\n",
            "53\n",
            "59\n",
            "61\n",
            "67\n",
            "71\n",
            "73\n",
            "79\n",
            "83\n",
            "89\n",
            "97\n"
          ]
        }
      ]
    },
    {
      "cell_type": "markdown",
      "source": [
        "###Task: define a function that print even number from 1 to 10."
      ],
      "metadata": {
        "id": "yU8y7mCoRmRH"
      }
    },
    {
      "cell_type": "code",
      "source": [
        "# your code will be here\n",
        "def print_even_numbers():\n",
        "  for i in range(1, 11):\n",
        "    if i % 2 == 0:\n",
        "      print(i)\n",
        "print_even_numbers()"
      ],
      "metadata": {
        "id": "g67KsRe3R2KG",
        "colab": {
          "base_uri": "https://localhost:8080/"
        },
        "outputId": "bdad75f4-4b76-491a-c29f-248bb2bc09d2"
      },
      "execution_count": 4,
      "outputs": [
        {
          "output_type": "stream",
          "name": "stdout",
          "text": [
            "2\n",
            "4\n",
            "6\n",
            "8\n",
            "10\n"
          ]
        }
      ]
    },
    {
      "cell_type": "markdown",
      "metadata": {
        "id": "QPoCScdkheK3"
      },
      "source": [
        "###Task: define a function that print odd number from 1 to 10"
      ]
    },
    {
      "cell_type": "code",
      "metadata": {
        "id": "tsFowDAKhJCB",
        "colab": {
          "base_uri": "https://localhost:8080/"
        },
        "outputId": "51911212-4ba4-4267-dc0a-07e0f80aa540"
      },
      "source": [
        "# your code will be here\n",
        "def print_odd_numbers():\n",
        "  for i in range(1, 11):\n",
        "    if i % 2 != 0:\n",
        "      print(i)\n",
        "print_odd_numbers()"
      ],
      "execution_count": 6,
      "outputs": [
        {
          "output_type": "stream",
          "name": "stdout",
          "text": [
            "1\n",
            "3\n",
            "5\n",
            "7\n",
            "9\n"
          ]
        }
      ]
    },
    {
      "cell_type": "markdown",
      "metadata": {
        "id": "TE6Df1WYhu10"
      },
      "source": [
        "###Task: define a function that print \"Welcome to Course 2\""
      ]
    },
    {
      "cell_type": "code",
      "metadata": {
        "id": "MSjQbhNXhJVV",
        "colab": {
          "base_uri": "https://localhost:8080/"
        },
        "outputId": "6d5832df-ea6c-4597-9136-79ba58a6a724"
      },
      "source": [
        "# your code will be here\n",
        "def welcome_to_course_2():\n",
        "  print(\"Welcome to Course 2\")\n",
        "welcome_to_course_2()"
      ],
      "execution_count": 7,
      "outputs": [
        {
          "output_type": "stream",
          "name": "stdout",
          "text": [
            "Welcome to Course 2\n"
          ]
        }
      ]
    },
    {
      "cell_type": "markdown",
      "metadata": {
        "id": "4iCITSR6h7Yv"
      },
      "source": [
        "###Task: define a function that print \"Welcome to Courose 2\" 10 times."
      ]
    },
    {
      "cell_type": "code",
      "metadata": {
        "id": "EKsuK9O6jW7D",
        "colab": {
          "base_uri": "https://localhost:8080/"
        },
        "outputId": "11fce67d-77ba-4ab2-c451-b8676f2ae98c"
      },
      "source": [
        "# your code will be here\n",
        "def welcome_to_course_2():\n",
        "  for i in range(10):\n",
        "    print(\"Welcome to Course 2\")\n",
        "welcome_to_course_2()"
      ],
      "execution_count": 8,
      "outputs": [
        {
          "output_type": "stream",
          "name": "stdout",
          "text": [
            "Welcome to Course 2\n",
            "Welcome to Course 2\n",
            "Welcome to Course 2\n",
            "Welcome to Course 2\n",
            "Welcome to Course 2\n",
            "Welcome to Course 2\n",
            "Welcome to Course 2\n",
            "Welcome to Course 2\n",
            "Welcome to Course 2\n",
            "Welcome to Course 2\n"
          ]
        }
      ]
    }
  ]
}
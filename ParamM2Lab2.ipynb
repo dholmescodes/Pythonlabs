{
  "nbformat": 4,
  "nbformat_minor": 0,
  "metadata": {
    "colab": {
      "provenance": [],
      "include_colab_link": true
    },
    "kernelspec": {
      "name": "python3",
      "display_name": "Python 3"
    },
    "language_info": {
      "name": "python"
    }
  },
  "cells": [
    {
      "cell_type": "markdown",
      "metadata": {
        "id": "view-in-github",
        "colab_type": "text"
      },
      "source": [
        "<a href=\"https://colab.research.google.com/github/dholmescodes/Pythonlabs/blob/main/ParamM2Lab2.ipynb\" target=\"_parent\"><img src=\"https://colab.research.google.com/assets/colab-badge.svg\" alt=\"Open In Colab\"/></a>"
      ]
    },
    {
      "cell_type": "markdown",
      "metadata": {
        "id": "cnAUJprJdh9_"
      },
      "source": [
        "# Welcome to our Lab Practice!"
      ]
    },
    {
      "cell_type": "markdown",
      "metadata": {
        "id": "vVYcayGedmms"
      },
      "source": [
        "This lab is all about defining functions with multiple parameters. Are you ready? Let's go!"
      ]
    },
    {
      "cell_type": "markdown",
      "metadata": {
        "id": "JP8eGBVyeSQx"
      },
      "source": [
        "You will find some small tasks in sections below. After defining functions, call them to test."
      ]
    },
    {
      "cell_type": "markdown",
      "source": [
        "###Task: define a function that print \"*message*\" *n* times, where *message* and *n* are parameters"
      ],
      "metadata": {
        "id": "MBpHkOhIfmrY"
      }
    },
    {
      "cell_type": "code",
      "source": [
        "#print message n times where message and n are parameters\n",
        "def message(message, n):\n",
        "  for i in range(n):\n",
        "    print(message)\n"
      ],
      "metadata": {
        "id": "Orw6NIIef0Wp"
      },
      "execution_count": 22,
      "outputs": []
    },
    {
      "cell_type": "code",
      "source": [
        "message(\"message\",3)\n"
      ],
      "metadata": {
        "colab": {
          "base_uri": "https://localhost:8080/"
        },
        "id": "R-IONXpwjngV",
        "outputId": "a6d77e6b-363a-4a44-f04a-c42fc5c6e923"
      },
      "execution_count": 25,
      "outputs": [
        {
          "output_type": "stream",
          "name": "stdout",
          "text": [
            "message\n",
            "message\n",
            "message\n"
          ]
        }
      ]
    },
    {
      "cell_type": "markdown",
      "source": [
        "###Task: define a function that print integers *n*  to *m* (hint: you can use a for loop), where *n* and *m* are parameters, and *n < m*.\n",
        "\n",
        "Challenge: Can you write a program that doesn't require *n < m*?"
      ],
      "metadata": {
        "id": "DVjL6nU0f2Z_"
      }
    },
    {
      "cell_type": "code",
      "source": [
        "# your code will be here"
      ],
      "metadata": {
        "id": "2iYaPzVSghML"
      },
      "execution_count": null,
      "outputs": []
    },
    {
      "cell_type": "markdown",
      "source": [
        "###Task: define a function that print the sum of *n*  to *m*, where *n, m* are parameters, and *n* < *m*."
      ],
      "metadata": {
        "id": "YhJrQh4eghzb"
      }
    },
    {
      "cell_type": "code",
      "source": [
        "# your code will be here\n",
        "def sum(n,m):\n",
        "  sum = 0\n",
        "  for i in range(n,m+1):\n",
        "    sum += i\n",
        "  print(sum)"
      ],
      "metadata": {
        "id": "n2Mm6RVYgwOq"
      },
      "execution_count": 11,
      "outputs": []
    },
    {
      "cell_type": "code",
      "source": [
        "sum(1,2)"
      ],
      "metadata": {
        "colab": {
          "base_uri": "https://localhost:8080/"
        },
        "id": "G8tgWNY1lWA7",
        "outputId": "2b0500c3-69e8-48c2-f588-43802863199f"
      },
      "execution_count": 13,
      "outputs": [
        {
          "output_type": "stream",
          "name": "stdout",
          "text": [
            "3\n"
          ]
        }
      ]
    },
    {
      "cell_type": "markdown",
      "source": [
        "###Task: define a function that print the AND logical operation of *condition1* and *condition 2*, where *condition1, condition2* are parameters."
      ],
      "metadata": {
        "id": "LzU4n3lDgzMR"
      }
    },
    {
      "cell_type": "code",
      "source": [
        "# your code will be here\n",
        "def and_operation(condition1,condition2):\n",
        "  print(condition1 and condition2)"
      ],
      "metadata": {
        "id": "aoARtrf-hEJR"
      },
      "execution_count": 14,
      "outputs": []
    },
    {
      "cell_type": "code",
      "source": [
        "and_operation(True, True)"
      ],
      "metadata": {
        "colab": {
          "base_uri": "https://localhost:8080/"
        },
        "id": "vQRwWgd4lisT",
        "outputId": "b3ed7cd5-e3ff-4369-b3b4-bbaa7a3710f6"
      },
      "execution_count": 16,
      "outputs": [
        {
          "output_type": "stream",
          "name": "stdout",
          "text": [
            "True\n"
          ]
        }
      ]
    },
    {
      "cell_type": "markdown",
      "source": [
        "###Task: define a function that print if *n* is dividible by *m*, where *n, m* are parameters."
      ],
      "metadata": {
        "id": "WLCfkBtOhEfa"
      }
    },
    {
      "cell_type": "code",
      "source": [
        "# your code will be here\n",
        "def divisible(n,m):\n",
        "  if n % m == 0:\n",
        "    print(True)\n",
        "  else:\n",
        "    print(False)"
      ],
      "metadata": {
        "id": "h_aYoPmWhPRL"
      },
      "execution_count": 17,
      "outputs": []
    },
    {
      "cell_type": "code",
      "source": [
        "divisible(9,4)"
      ],
      "metadata": {
        "colab": {
          "base_uri": "https://localhost:8080/"
        },
        "id": "7eCFTceElzMm",
        "outputId": "787f5ecd-8175-489d-f0ab-708af6bba447"
      },
      "execution_count": 18,
      "outputs": [
        {
          "output_type": "stream",
          "name": "stdout",
          "text": [
            "False\n"
          ]
        }
      ]
    },
    {
      "cell_type": "markdown",
      "source": [
        "###Task: define a function that print the minimal number from *x, y, z*, where *x, y, z* are parameters"
      ],
      "metadata": {
        "id": "RNil8H04hUDq"
      }
    },
    {
      "cell_type": "code",
      "source": [
        "# your code will be here\n",
        "def minimal(x,y,z):\n",
        "  print(min(x,y,z))"
      ],
      "metadata": {
        "id": "HaZfxaajhhn8"
      },
      "execution_count": 19,
      "outputs": []
    },
    {
      "cell_type": "code",
      "source": [
        "minimal(5,8,24)"
      ],
      "metadata": {
        "colab": {
          "base_uri": "https://localhost:8080/"
        },
        "id": "kn4gxqmjl7Re",
        "outputId": "881e829c-3970-4ab2-fc15-44ab4a814a23"
      },
      "execution_count": 20,
      "outputs": [
        {
          "output_type": "stream",
          "name": "stdout",
          "text": [
            "5\n"
          ]
        }
      ]
    }
  ]
}
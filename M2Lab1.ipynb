{
  "nbformat": 4,
  "nbformat_minor": 0,
  "metadata": {
    "colab": {
      "provenance": [],
      "toc_visible": true,
      "include_colab_link": true
    },
    "kernelspec": {
      "name": "python3",
      "display_name": "Python 3"
    },
    "language_info": {
      "name": "python"
    }
  },
  "cells": [
    {
      "cell_type": "markdown",
      "metadata": {
        "id": "view-in-github",
        "colab_type": "text"
      },
      "source": [
        "<a href=\"https://colab.research.google.com/github/dholmescodes/Pythonlabs/blob/main/M2Lab1.ipynb\" target=\"_parent\"><img src=\"https://colab.research.google.com/assets/colab-badge.svg\" alt=\"Open In Colab\"/></a>"
      ]
    },
    {
      "cell_type": "markdown",
      "metadata": {
        "id": "cnAUJprJdh9_"
      },
      "source": [
        "# Welcome to our Lab Practice!"
      ]
    },
    {
      "cell_type": "markdown",
      "metadata": {
        "id": "vVYcayGedmms"
      },
      "source": [
        "This lab is all about defining functions with ONE parameter. Are you ready? Let's go!"
      ]
    },
    {
      "cell_type": "markdown",
      "metadata": {
        "id": "JP8eGBVyeSQx"
      },
      "source": [
        "You will find some small tasks in sections below. After defining functions, call them to test."
      ]
    },
    {
      "cell_type": "markdown",
      "metadata": {
        "id": "rXgbUIBRgQoG"
      },
      "source": [
        "###Task: define a function that print \"hello, *name*\" where *name* is a parameter"
      ]
    },
    {
      "cell_type": "code",
      "metadata": {
        "id": "oIKwmW2mfe3d"
      },
      "source": [
        "# Define a function that print \"hello, name\""
      ],
      "execution_count": null,
      "outputs": []
    },
    {
      "cell_type": "code",
      "source": [
        "def hello(name):\n",
        "  print(\"Hello, \" + name)"
      ],
      "metadata": {
        "id": "1uGCfaADia1I"
      },
      "execution_count": 4,
      "outputs": []
    },
    {
      "cell_type": "code",
      "source": [
        "hello(\"Dorian\")"
      ],
      "metadata": {
        "colab": {
          "base_uri": "https://localhost:8080/"
        },
        "id": "VTH081kPijJN",
        "outputId": "55ccffb6-dcbd-46e7-eaf9-2c10c6e0c059"
      },
      "execution_count": 5,
      "outputs": [
        {
          "output_type": "stream",
          "name": "stdout",
          "text": [
            "Hello, Dorian\n"
          ]
        }
      ]
    },
    {
      "cell_type": "markdown",
      "source": [
        "###Task: define a function that print \"hello world\" *n* times, where *n* is a parameter"
      ],
      "metadata": {
        "id": "h-mrQgK7RKqm"
      }
    },
    {
      "cell_type": "code",
      "source": [
        "# Define a function that print \"hello world\" n times\n",
        "def hello_world(n):\n",
        "  for i in range(n):\n",
        "    print(\"Hello World\")"
      ],
      "metadata": {
        "id": "47f7Q_AIRMUW"
      },
      "execution_count": 7,
      "outputs": []
    },
    {
      "cell_type": "code",
      "source": [
        "hello_world(15)"
      ],
      "metadata": {
        "colab": {
          "base_uri": "https://localhost:8080/"
        },
        "id": "Hp6JM0xMi_78",
        "outputId": "c7f4a3df-d541-4e43-9f83-ef396b5d64f7"
      },
      "execution_count": 8,
      "outputs": [
        {
          "output_type": "stream",
          "name": "stdout",
          "text": [
            "Hello World\n",
            "Hello World\n",
            "Hello World\n",
            "Hello World\n",
            "Hello World\n",
            "Hello World\n",
            "Hello World\n",
            "Hello World\n",
            "Hello World\n",
            "Hello World\n",
            "Hello World\n",
            "Hello World\n",
            "Hello World\n",
            "Hello World\n",
            "Hello World\n"
          ]
        }
      ]
    },
    {
      "cell_type": "markdown",
      "source": [
        "###Task: define a function that print integers 1 to *n* (hint: you can use a for loop), where *n* is a parameter"
      ],
      "metadata": {
        "id": "1y6noqXNRMpG"
      }
    },
    {
      "cell_type": "code",
      "source": [
        "# define a function that print integers 1 to n\n",
        "def print_integers(n):\n",
        "  for i in range(1, n+1):\n",
        "    print(i)"
      ],
      "metadata": {
        "id": "FR7idsVORX5_"
      },
      "execution_count": 10,
      "outputs": []
    },
    {
      "cell_type": "code",
      "source": [
        "print_integers(15)"
      ],
      "metadata": {
        "colab": {
          "base_uri": "https://localhost:8080/"
        },
        "id": "-7Sm3NonjUTS",
        "outputId": "17848a3f-a128-4314-9a70-e2817f53fa3c"
      },
      "execution_count": 11,
      "outputs": [
        {
          "output_type": "stream",
          "name": "stdout",
          "text": [
            "1\n",
            "2\n",
            "3\n",
            "4\n",
            "5\n",
            "6\n",
            "7\n",
            "8\n",
            "9\n",
            "10\n",
            "11\n",
            "12\n",
            "13\n",
            "14\n",
            "15\n"
          ]
        }
      ]
    },
    {
      "cell_type": "markdown",
      "source": [
        "###Task: define a function that print prime integers in *n* (hint: you can use loops), where *n* is a parameter"
      ],
      "metadata": {
        "id": "OoTXs3WERYju"
      }
    },
    {
      "cell_type": "code",
      "source": [
        "# your code will be here\n",
        "def print_prime_integers(n):\n",
        "  for i in range(1, n+1):\n",
        "    if i > 1:\n",
        "      for j in range(2, i):\n",
        "        if i % j == 0:\n",
        "          break\n",
        "      else:\n",
        "        print(i)"
      ],
      "metadata": {
        "id": "2pS4qJ54RhKf"
      },
      "execution_count": 13,
      "outputs": []
    },
    {
      "cell_type": "code",
      "source": [
        "print_prime_integers(50)"
      ],
      "metadata": {
        "colab": {
          "base_uri": "https://localhost:8080/"
        },
        "id": "nG_qT1gljiz5",
        "outputId": "65fb0f19-c780-4d54-cb3d-117de0c7edb3"
      },
      "execution_count": 14,
      "outputs": [
        {
          "output_type": "stream",
          "name": "stdout",
          "text": [
            "2\n",
            "3\n",
            "5\n",
            "7\n",
            "11\n",
            "13\n",
            "17\n",
            "19\n",
            "23\n",
            "29\n",
            "31\n",
            "37\n",
            "41\n",
            "43\n",
            "47\n"
          ]
        }
      ]
    },
    {
      "cell_type": "markdown",
      "source": [
        "###Task: define a function that print whether or not given *n* is even, *n* is a parameter"
      ],
      "metadata": {
        "id": "yU8y7mCoRmRH"
      }
    },
    {
      "cell_type": "code",
      "source": [
        "# define a function that print whether or not given n is even\n",
        "def even(n):\n",
        "  if n % 2 == 0:\n",
        "    print(\"Even\")\n",
        "  else:\n",
        "    print(\"Odd\")"
      ],
      "metadata": {
        "id": "g67KsRe3R2KG"
      },
      "execution_count": 17,
      "outputs": []
    },
    {
      "cell_type": "code",
      "source": [
        "even(2)"
      ],
      "metadata": {
        "colab": {
          "base_uri": "https://localhost:8080/"
        },
        "id": "f3ZOhh3lj9RH",
        "outputId": "cd6fe8b1-3a5b-4529-9477-abf5f70c0e0f"
      },
      "execution_count": 18,
      "outputs": [
        {
          "output_type": "stream",
          "name": "stdout",
          "text": [
            "Even\n"
          ]
        }
      ]
    },
    {
      "cell_type": "markdown",
      "metadata": {
        "id": "QPoCScdkheK3"
      },
      "source": [
        "###Task: define a function that print whether or not given *n* is odd, *n* is a parameter"
      ]
    },
    {
      "cell_type": "code",
      "metadata": {
        "id": "tsFowDAKhJCB"
      },
      "source": [
        "# define a function that print whether or not given n is odd\n",
        "def odd(n):\n",
        "  if n % 2 == 1:\n",
        "    print(\"Odd\")\n",
        "  else:\n",
        "    print(\"Even\")\n"
      ],
      "execution_count": 22,
      "outputs": []
    },
    {
      "cell_type": "code",
      "source": [
        "odd(15)"
      ],
      "metadata": {
        "colab": {
          "base_uri": "https://localhost:8080/"
        },
        "id": "yuJTF3RFkJTE",
        "outputId": "3a28b87a-4a71-4852-f035-98979495ba7b"
      },
      "execution_count": 23,
      "outputs": [
        {
          "output_type": "stream",
          "name": "stdout",
          "text": [
            "Odd\n"
          ]
        }
      ]
    },
    {
      "cell_type": "markdown",
      "source": [
        "###Task: define a function that print the absolute value of *n*, *n* is a parameter"
      ],
      "metadata": {
        "id": "Jbw-h9GMhnQl"
      }
    },
    {
      "cell_type": "code",
      "source": [
        "# define a function that print the absolute value of n\n",
        "def absolute(n):\n",
        "  if n < 0:\n",
        "    print(-n)\n",
        "  else:\n",
        "    print(n)"
      ],
      "metadata": {
        "id": "dUOiwszHhsEN"
      },
      "execution_count": 25,
      "outputs": []
    },
    {
      "cell_type": "code",
      "source": [
        "absolute(15)"
      ],
      "metadata": {
        "colab": {
          "base_uri": "https://localhost:8080/"
        },
        "id": "4E1NyH64kX7k",
        "outputId": "2d3cecc0-23f9-45a7-a29d-70ebf1dc29d1"
      },
      "execution_count": 31,
      "outputs": [
        {
          "output_type": "stream",
          "name": "stdout",
          "text": [
            "15\n"
          ]
        }
      ]
    },
    {
      "cell_type": "markdown",
      "source": [
        "###Task: define a function that print the square value of *n*, *n* is a parameter"
      ],
      "metadata": {
        "id": "AyaEIEqOhsV8"
      }
    },
    {
      "cell_type": "code",
      "source": [
        "# define a function that print the square value of n\n",
        "def square(n):\n",
        "  print(n**2)"
      ],
      "metadata": {
        "id": "-lVtxeAmhv9t"
      },
      "execution_count": 33,
      "outputs": []
    },
    {
      "cell_type": "code",
      "source": [
        "square(15)"
      ],
      "metadata": {
        "colab": {
          "base_uri": "https://localhost:8080/"
        },
        "id": "mxiH2mo8kxdl",
        "outputId": "862ecaf8-a42b-4270-f1ed-9d4b5cbba72c"
      },
      "execution_count": 34,
      "outputs": [
        {
          "output_type": "stream",
          "name": "stdout",
          "text": [
            "225\n"
          ]
        }
      ]
    },
    {
      "cell_type": "markdown",
      "metadata": {
        "id": "TE6Df1WYhu10"
      },
      "source": [
        "###Task: define a function that print whether or not given *n* is divisible by 6, *n* is a parameter"
      ]
    },
    {
      "cell_type": "code",
      "metadata": {
        "id": "MSjQbhNXhJVV"
      },
      "source": [
        "# define a function that print whether or not given n is divsible by 6\n",
        "def divisible_by_6(n):\n",
        "  if n % 6 == 0:\n",
        "    print(\"Divisible by 6\")\n",
        "  else:\n",
        "    print(\"Not divisible by 6\")"
      ],
      "execution_count": 36,
      "outputs": []
    },
    {
      "cell_type": "code",
      "source": [
        "divisible_by_6(15)"
      ],
      "metadata": {
        "colab": {
          "base_uri": "https://localhost:8080/"
        },
        "id": "oOevVG8Wk9p2",
        "outputId": "6a60c32f-87d2-4967-eb40-80d48f81e45c"
      },
      "execution_count": 37,
      "outputs": [
        {
          "output_type": "stream",
          "name": "stdout",
          "text": [
            "Not divisible by 6\n"
          ]
        }
      ]
    },
    {
      "cell_type": "markdown",
      "metadata": {
        "id": "4iCITSR6h7Yv"
      },
      "source": [
        "###Task: define a function that print whether or not given *n* is prime, *n* is a parameter"
      ]
    },
    {
      "cell_type": "code",
      "metadata": {
        "id": "EKsuK9O6jW7D"
      },
      "source": [
        "# define a function that print whether or not given n is prime\n",
        "def prime(n):\n",
        "  if n > 1:\n",
        "    for i in range(2, n):\n",
        "      if n % i == 0:\n",
        "        print(\"Not prime\")\n",
        "        break\n",
        "    else:\n",
        "      print(\"Prime\")"
      ],
      "execution_count": 38,
      "outputs": []
    },
    {
      "cell_type": "code",
      "source": [
        "prime(10)"
      ],
      "metadata": {
        "colab": {
          "base_uri": "https://localhost:8080/"
        },
        "id": "1zL4fnallHaM",
        "outputId": "393ef15d-d26d-4c9f-cfff-2d321fbeadb6"
      },
      "execution_count": 39,
      "outputs": [
        {
          "output_type": "stream",
          "name": "stdout",
          "text": [
            "Not prime\n"
          ]
        }
      ]
    }
  ]
}
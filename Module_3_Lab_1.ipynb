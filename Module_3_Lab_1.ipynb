{
  "nbformat": 4,
  "nbformat_minor": 0,
  "metadata": {
    "colab": {
      "provenance": [],
      "authorship_tag": "ABX9TyN6fXbegmsMcAhKDFU0o0aZ",
      "include_colab_link": true
    },
    "kernelspec": {
      "name": "python3",
      "display_name": "Python 3"
    },
    "language_info": {
      "name": "python"
    }
  },
  "cells": [
    {
      "cell_type": "markdown",
      "metadata": {
        "id": "view-in-github",
        "colab_type": "text"
      },
      "source": [
        "<a href=\"https://colab.research.google.com/github/dholmescodes/Pythonlabs/blob/main/Module_3_Lab_1.ipynb\" target=\"_parent\"><img src=\"https://colab.research.google.com/assets/colab-badge.svg\" alt=\"Open In Colab\"/></a>"
      ]
    },
    {
      "cell_type": "code",
      "execution_count": null,
      "metadata": {
        "colab": {
          "base_uri": "https://localhost:8080/"
        },
        "id": "AIRdohAeB5Zy",
        "outputId": "45ed56b6-e7bb-40c1-d79e-8cfa6b2289b9"
      },
      "outputs": [
        {
          "name": "stdout",
          "output_type": "stream",
          "text": [
            "Enter a number7\n"
          ]
        }
      ],
      "source": [
        "num = int(input(\"Enter a number\"))\n",
        "if num % 2 == 0:\n",
        "    print(\"The number is even\")\n"
      ]
    },
    {
      "cell_type": "code",
      "source": [
        "num = int(input(\"Enter a number\"))\n",
        "\n",
        "if num % 2 > 0:\n",
        "      print(\"The number is odd\")\n"
      ],
      "metadata": {
        "colab": {
          "base_uri": "https://localhost:8080/"
        },
        "id": "Cts6TL21CcMk",
        "outputId": "3811027f-5344-42a4-d25d-f50ab1721d3a"
      },
      "execution_count": null,
      "outputs": [
        {
          "output_type": "stream",
          "name": "stdout",
          "text": [
            "Enter a number7\n",
            "The number is odd\n"
          ]
        }
      ]
    },
    {
      "cell_type": "code",
      "source": [
        "pword = input(\"Enter a Password\")\n",
        "user_input = \"\"\n",
        "while user_input != pword:\n",
        "    user_input = input(\"Enter the password\")\n",
        "print(\"Access Granted\")"
      ],
      "metadata": {
        "colab": {
          "base_uri": "https://localhost:8080/"
        },
        "id": "XBJpVebyIWjn",
        "outputId": "758733e0-e617-4cc9-ca0e-48dbace2f0f2"
      },
      "execution_count": null,
      "outputs": [
        {
          "output_type": "stream",
          "name": "stdout",
          "text": [
            "Enter a Passwordtime\n",
            "Enter the passwordten\n",
            "Enter the passwordten\n",
            "Enter the passwordtime\n",
            "Access Granted\n"
          ]
        }
      ]
    },
    {
      "cell_type": "code",
      "source": [
        "num = int(input(\"Enter a number \"))\n",
        "\n",
        "if num % 6 == 0:\n",
        "    print(\"The number is divisible by 6\")"
      ],
      "metadata": {
        "colab": {
          "base_uri": "https://localhost:8080/"
        },
        "id": "BPfBqVhYD81O",
        "outputId": "858e90e7-59b7-4171-8df4-a034dd7f0930"
      },
      "execution_count": null,
      "outputs": [
        {
          "output_type": "stream",
          "name": "stdout",
          "text": [
            "Enter a number 36\n",
            "The number is divisible by 6\n"
          ]
        }
      ]
    },
    {
      "cell_type": "code",
      "source": [
        "user_input = \"\"\n",
        "while user_input.lower() != \"stop\":\n",
        "    user_input = input(\"Enter a number or type 'stop' to exit: \")\n",
        "    if user_input.lower() != \"stop\":\n",
        "        print(\"You entered:\", user_input)\n",
        "print(\"bye\")\n"
      ],
      "metadata": {
        "colab": {
          "base_uri": "https://localhost:8080/"
        },
        "id": "TbjVdJF2Ea2x",
        "outputId": "c1362064-cc63-4b1a-9a56-0d995972832a"
      },
      "execution_count": null,
      "outputs": [
        {
          "output_type": "stream",
          "name": "stdout",
          "text": [
            "Enter a number or type 'stop' to exit: 2\n",
            "You entered: 2\n",
            "Enter a number or type 'stop' to exit: 2\n",
            "You entered: 2\n",
            "Enter a number or type 'stop' to exit: 2\n",
            "You entered: 2\n",
            "Enter a number or type 'stop' to exit: stop\n",
            "bye\n"
          ]
        }
      ]
    }
  ]
}